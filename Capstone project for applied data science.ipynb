{
 "metadata": {
  "language_info": {
   "codemirror_mode": {
    "name": "ipython",
    "version": 3
   },
   "file_extension": ".py",
   "mimetype": "text/x-python",
   "name": "python",
   "nbconvert_exporter": "python",
   "pygments_lexer": "ipython3",
   "version": "3.8.8"
  },
  "orig_nbformat": 2,
  "kernelspec": {
   "name": "python388jvsc74a57bd0c0f70214c0dd213f07f54ee5d6e0ea644bdbba35113c9bfe8aaa0d1db03ad5dd",
   "display_name": "Python 3.8.8 64-bit ('base': conda)"
  }
 },
 "nbformat": 4,
 "nbformat_minor": 2,
 "cells": [
  {
   "source": [
    "# IBM Developer Skills Network"
   ],
   "cell_type": "markdown",
   "metadata": {}
  },
  {
   "source": [
    "## Capstone project for applied data science"
   ],
   "cell_type": "markdown",
   "metadata": {}
  },
  {
   "cell_type": "code",
   "execution_count": 2,
   "metadata": {},
   "outputs": [],
   "source": [
    "import numpy as np\n",
    "import pandas as pd\n",
    "pd.set_option('display.max_columns', None)\n",
    "pd.set_option('display.max_rows', None)\n",
    "\n",
    "import json  # handle json file\n",
    "\n",
    "from geopy.geocoders import Nominatim  # convert address to lat and long\n",
    "import requests  # handle request url\n",
    "from pandas.io.json import json_normalize  # transform json to dataframe\n",
    "\n",
    "import matplotlib.cm as cm  # color map handling\n",
    "import matplotlib.colors as colors\n",
    "\n",
    "from sklearn.cluster import KMeans\n",
    "import folium  # map rendering\n",
    "\n"
   ]
  },
  {
   "source": [
    "## # Load the seoul rent file"
   ],
   "cell_type": "markdown",
   "metadata": {}
  },
  {
   "cell_type": "code",
   "execution_count": 3,
   "metadata": {},
   "outputs": [
    {
     "output_type": "execute_result",
     "data": {
      "text/plain": [
       "(200, 19)"
      ]
     },
     "metadata": {},
     "execution_count": 3
    }
   ],
   "source": [
    "path = 'https://raw.githubusercontent.com/sonpn82/Coursera_Capstone/master/Seoul_rent_1000.csv'\n",
    "\n",
    "seoul_data = pd.read_csv(path, encoding='cp949')\n",
    "seoul_data = seoul_data.sample(200)\n",
    "seoul_data.shape"
   ]
  },
  {
   "cell_type": "code",
   "execution_count": 4,
   "metadata": {},
   "outputs": [
    {
     "output_type": "execute_result",
     "data": {
      "text/plain": [
       "CityCode          int64\n",
       "Exit              int64\n",
       "CodeT             int64\n",
       "City             object\n",
       "District         object\n",
       "Ward             object\n",
       "RoadCode        float64\n",
       "Road             object\n",
       "UnderGround       int64\n",
       "BuildingNo        int64\n",
       "BuildingNoEx      int64\n",
       "BuildingName     object\n",
       "PostalCode        int64\n",
       "UseType          object\n",
       "Separate          int64\n",
       "WardEx           object\n",
       "RentPrice         int64\n",
       "Latitude        float64\n",
       "Longitude       float64\n",
       "dtype: object"
      ]
     },
     "metadata": {},
     "execution_count": 4
    }
   ],
   "source": [
    "seoul_data.dtypes"
   ]
  },
  {
   "cell_type": "code",
   "execution_count": 5,
   "metadata": {},
   "outputs": [],
   "source": [
    "## Define Foursquare Credentials and Version\n",
    "path = 'G:\\Google Drive\\FoursquareToken.csv'\n",
    "df_token = pd.read_csv(path)\n",
    "\n",
    "CLIENT_ID = df_token.iloc[0][1]\n",
    "CLIENT_SECRET = df_token.iloc[1][1]\n",
    "ACCESS_TOKEN = df_token.iloc[2][1]\n",
    "VERSION = '20210526'\n",
    "LIMIT = 100 # default 4square API limit value"
   ]
  },
  {
   "cell_type": "code",
   "execution_count": 7,
   "metadata": {},
   "outputs": [],
   "source": [
    "def getNearbyVenues(names, latitudes, longitudes, radius=1000):  # get venues for all neighborhoods\n",
    "    \n",
    "    venues_list=[]\n",
    "    for name, lat, lng in zip(names, latitudes, longitudes):\n",
    "       # print(name)\n",
    "            \n",
    "        # create the API request URL\n",
    "        url = 'https://api.foursquare.com/v2/venues/explore?&client_id={}&client_secret={}&v={}&ll={},{}&radius={}&limit={}'.format(\n",
    "            CLIENT_ID, \n",
    "            CLIENT_SECRET, \n",
    "            VERSION, \n",
    "            lat, \n",
    "            lng, \n",
    "            radius, \n",
    "            LIMIT)\n",
    "            \n",
    "        # make the GET request\n",
    "        results = requests.get(url).json()[\"response\"]['groups'][0]['items']\n",
    "        \n",
    "        # return only relevant information for each nearby venue\n",
    "        venues_list.append([(\n",
    "            name, \n",
    "            lat, \n",
    "            lng, \n",
    "            v['venue']['name'], \n",
    "            v['venue']['location']['lat'], \n",
    "            v['venue']['location']['lng'],  \n",
    "            v['venue']['categories'][0]['name']) for v in results])\n",
    "\n",
    "    nearby_venues = pd.DataFrame([item for venue_list in venues_list for item in venue_list])\n",
    "    nearby_venues.columns = ['Neighborhood', \n",
    "                  'Neighborhood Latitude', \n",
    "                  'Neighborhood Longitude', \n",
    "                  'Venue', \n",
    "                  'Venue Latitude', \n",
    "                  'Venue Longitude', \n",
    "                  'Venue Category']\n",
    "    \n",
    "    return(nearby_venues)"
   ]
  },
  {
   "cell_type": "code",
   "execution_count": 8,
   "metadata": {},
   "outputs": [],
   "source": [
    "seoul_venues = getNearbyVenues(names=seoul_data['BuildingName'],\n",
    "                               latitudes=seoul_data['Longitude'],\n",
    "                               longitudes=seoul_data['Latitude'])              "
   ]
  },
  {
   "cell_type": "code",
   "execution_count": 9,
   "metadata": {},
   "outputs": [
    {
     "output_type": "execute_result",
     "data": {
      "text/plain": [
       "  Neighborhood  Neighborhood Latitude  Neighborhood Longitude  \\\n",
       "0     롯데캐슬 천지인              37.573936              127.016338   \n",
       "1     롯데캐슬 천지인              37.573936              127.016338   \n",
       "2     롯데캐슬 천지인              37.573936              127.016338   \n",
       "3     롯데캐슬 천지인              37.573936              127.016338   \n",
       "4     롯데캐슬 천지인              37.573936              127.016338   \n",
       "\n",
       "                                               Venue  Venue Latitude  \\\n",
       "0                                    EVEREST (에베레스트)       37.572567   \n",
       "1  Dongdaemoon Stationery and Toy Market (동대문문구완구거리)       37.571528   \n",
       "2                                           동대문 양육관점       37.572204   \n",
       "3                             Yukjeon Sikdang (육전식당)       37.574425   \n",
       "4                                           창신동 매운족발       37.573021   \n",
       "\n",
       "   Venue Longitude      Venue Category  \n",
       "0       127.012588   Indian Restaurant  \n",
       "1       127.013856    Toy / Game Store  \n",
       "2       127.012623  Chinese Restaurant  \n",
       "3       127.024394           BBQ Joint  \n",
       "4       127.011588   Korean Restaurant  "
      ],
      "text/html": "<div>\n<style scoped>\n    .dataframe tbody tr th:only-of-type {\n        vertical-align: middle;\n    }\n\n    .dataframe tbody tr th {\n        vertical-align: top;\n    }\n\n    .dataframe thead th {\n        text-align: right;\n    }\n</style>\n<table border=\"1\" class=\"dataframe\">\n  <thead>\n    <tr style=\"text-align: right;\">\n      <th></th>\n      <th>Neighborhood</th>\n      <th>Neighborhood Latitude</th>\n      <th>Neighborhood Longitude</th>\n      <th>Venue</th>\n      <th>Venue Latitude</th>\n      <th>Venue Longitude</th>\n      <th>Venue Category</th>\n    </tr>\n  </thead>\n  <tbody>\n    <tr>\n      <th>0</th>\n      <td>롯데캐슬 천지인</td>\n      <td>37.573936</td>\n      <td>127.016338</td>\n      <td>EVEREST (에베레스트)</td>\n      <td>37.572567</td>\n      <td>127.012588</td>\n      <td>Indian Restaurant</td>\n    </tr>\n    <tr>\n      <th>1</th>\n      <td>롯데캐슬 천지인</td>\n      <td>37.573936</td>\n      <td>127.016338</td>\n      <td>Dongdaemoon Stationery and Toy Market (동대문문구완구거리)</td>\n      <td>37.571528</td>\n      <td>127.013856</td>\n      <td>Toy / Game Store</td>\n    </tr>\n    <tr>\n      <th>2</th>\n      <td>롯데캐슬 천지인</td>\n      <td>37.573936</td>\n      <td>127.016338</td>\n      <td>동대문 양육관점</td>\n      <td>37.572204</td>\n      <td>127.012623</td>\n      <td>Chinese Restaurant</td>\n    </tr>\n    <tr>\n      <th>3</th>\n      <td>롯데캐슬 천지인</td>\n      <td>37.573936</td>\n      <td>127.016338</td>\n      <td>Yukjeon Sikdang (육전식당)</td>\n      <td>37.574425</td>\n      <td>127.024394</td>\n      <td>BBQ Joint</td>\n    </tr>\n    <tr>\n      <th>4</th>\n      <td>롯데캐슬 천지인</td>\n      <td>37.573936</td>\n      <td>127.016338</td>\n      <td>창신동 매운족발</td>\n      <td>37.573021</td>\n      <td>127.011588</td>\n      <td>Korean Restaurant</td>\n    </tr>\n  </tbody>\n</table>\n</div>"
     },
     "metadata": {},
     "execution_count": 9
    }
   ],
   "source": [
    "seoul_venues.head()"
   ]
  },
  {
   "cell_type": "code",
   "execution_count": 63,
   "metadata": {},
   "outputs": [
    {
     "output_type": "execute_result",
     "data": {
      "text/plain": [
       "(9495, 7)"
      ]
     },
     "metadata": {},
     "execution_count": 63
    }
   ],
   "source": [
    "seoul_venues.shape"
   ]
  },
  {
   "cell_type": "code",
   "execution_count": 14,
   "metadata": {},
   "outputs": [],
   "source": [
    "pd.DataFrame(set(seoul_venues['Venue Category'])).to_csv(r'C:\\Users\\hp\\Downloads\\Seoul_venues_cat2.csv')"
   ]
  },
  {
   "source": [
    "## Group venue into 7 general categories"
   ],
   "cell_type": "markdown",
   "metadata": {}
  },
  {
   "cell_type": "code",
   "execution_count": 42,
   "metadata": {},
   "outputs": [
    {
     "output_type": "execute_result",
     "data": {
      "text/plain": [
       "        Food and drink  Sports and leisure         Transport  \\\n",
       "0   African Restaurant  Athletics & Sports           Airport   \n",
       "1  American Restaurant     Badminton Court    Airport Lounge   \n",
       "2     Asian Restaurant      Baseball Field   Airport Service   \n",
       "3               Bakery    Baseball Stadium  Airport Terminal   \n",
       "4                  Bar    Basketball Court            Bridge   \n",
       "\n",
       "  Sightseeing and culture Service and store          Entertainment  \\\n",
       "0             Art Gallery      Antique Shop                 Arcade   \n",
       "1              Art Museum   Auto Dealership             Bath House   \n",
       "2     Arts & Crafts Store     Auto Workshop           Concert Hall   \n",
       "3        Botanical Garden        Bagel Shop  General Entertainment   \n",
       "4                Cemetery        Board Shop    Indie Movie Theater   \n",
       "\n",
       "                                    Lodging  \n",
       "0                            Boarding House  \n",
       "1                                    Hostel  \n",
       "2                                     Hotel  \n",
       "3  Residential Building (Apartment / Condo)  \n",
       "4                                    Resort  "
      ],
      "text/html": "<div>\n<style scoped>\n    .dataframe tbody tr th:only-of-type {\n        vertical-align: middle;\n    }\n\n    .dataframe tbody tr th {\n        vertical-align: top;\n    }\n\n    .dataframe thead th {\n        text-align: right;\n    }\n</style>\n<table border=\"1\" class=\"dataframe\">\n  <thead>\n    <tr style=\"text-align: right;\">\n      <th></th>\n      <th>Food and drink</th>\n      <th>Sports and leisure</th>\n      <th>Transport</th>\n      <th>Sightseeing and culture</th>\n      <th>Service and store</th>\n      <th>Entertainment</th>\n      <th>Lodging</th>\n    </tr>\n  </thead>\n  <tbody>\n    <tr>\n      <th>0</th>\n      <td>African Restaurant</td>\n      <td>Athletics &amp; Sports</td>\n      <td>Airport</td>\n      <td>Art Gallery</td>\n      <td>Antique Shop</td>\n      <td>Arcade</td>\n      <td>Boarding House</td>\n    </tr>\n    <tr>\n      <th>1</th>\n      <td>American Restaurant</td>\n      <td>Badminton Court</td>\n      <td>Airport Lounge</td>\n      <td>Art Museum</td>\n      <td>Auto Dealership</td>\n      <td>Bath House</td>\n      <td>Hostel</td>\n    </tr>\n    <tr>\n      <th>2</th>\n      <td>Asian Restaurant</td>\n      <td>Baseball Field</td>\n      <td>Airport Service</td>\n      <td>Arts &amp; Crafts Store</td>\n      <td>Auto Workshop</td>\n      <td>Concert Hall</td>\n      <td>Hotel</td>\n    </tr>\n    <tr>\n      <th>3</th>\n      <td>Bakery</td>\n      <td>Baseball Stadium</td>\n      <td>Airport Terminal</td>\n      <td>Botanical Garden</td>\n      <td>Bagel Shop</td>\n      <td>General Entertainment</td>\n      <td>Residential Building (Apartment / Condo)</td>\n    </tr>\n    <tr>\n      <th>4</th>\n      <td>Bar</td>\n      <td>Basketball Court</td>\n      <td>Bridge</td>\n      <td>Cemetery</td>\n      <td>Board Shop</td>\n      <td>Indie Movie Theater</td>\n      <td>Resort</td>\n    </tr>\n  </tbody>\n</table>\n</div>"
     },
     "metadata": {},
     "execution_count": 42
    }
   ],
   "source": [
    "## Load the csv file contain 7 general categories\n",
    "path = 'https://raw.githubusercontent.com/sonpn82/Coursera_Capstone/master/Seoul_venues_cat.csv'\n",
    "seoul_venues_cat = pd.read_csv(path)\n",
    "seoul_venues_cat = seoul_venues_cat.fillna(1)  # replace NA with 1\n",
    "seoul_venues_cat.head()"
   ]
  },
  {
   "cell_type": "code",
   "execution_count": 43,
   "metadata": {},
   "outputs": [
    {
     "output_type": "execute_result",
     "data": {
      "text/plain": [
       "  Neighborhood  Neighborhood Latitude  Neighborhood Longitude  \\\n",
       "0     롯데캐슬 천지인              37.573936              127.016338   \n",
       "1     롯데캐슬 천지인              37.573936              127.016338   \n",
       "2     롯데캐슬 천지인              37.573936              127.016338   \n",
       "3     롯데캐슬 천지인              37.573936              127.016338   \n",
       "4     롯데캐슬 천지인              37.573936              127.016338   \n",
       "\n",
       "                                               Venue  Venue Latitude  \\\n",
       "0                                    EVEREST (에베레스트)       37.572567   \n",
       "1  Dongdaemoon Stationery and Toy Market (동대문문구완구거리)       37.571528   \n",
       "2                                           동대문 양육관점       37.572204   \n",
       "3                             Yukjeon Sikdang (육전식당)       37.574425   \n",
       "4                                           창신동 매운족발       37.573021   \n",
       "\n",
       "   Venue Longitude      Venue Category  General Category  \n",
       "0       127.012588   Indian Restaurant                 0  \n",
       "1       127.013856    Toy / Game Store                 0  \n",
       "2       127.012623  Chinese Restaurant                 0  \n",
       "3       127.024394           BBQ Joint                 0  \n",
       "4       127.011588   Korean Restaurant                 0  "
      ],
      "text/html": "<div>\n<style scoped>\n    .dataframe tbody tr th:only-of-type {\n        vertical-align: middle;\n    }\n\n    .dataframe tbody tr th {\n        vertical-align: top;\n    }\n\n    .dataframe thead th {\n        text-align: right;\n    }\n</style>\n<table border=\"1\" class=\"dataframe\">\n  <thead>\n    <tr style=\"text-align: right;\">\n      <th></th>\n      <th>Neighborhood</th>\n      <th>Neighborhood Latitude</th>\n      <th>Neighborhood Longitude</th>\n      <th>Venue</th>\n      <th>Venue Latitude</th>\n      <th>Venue Longitude</th>\n      <th>Venue Category</th>\n      <th>General Category</th>\n    </tr>\n  </thead>\n  <tbody>\n    <tr>\n      <th>0</th>\n      <td>롯데캐슬 천지인</td>\n      <td>37.573936</td>\n      <td>127.016338</td>\n      <td>EVEREST (에베레스트)</td>\n      <td>37.572567</td>\n      <td>127.012588</td>\n      <td>Indian Restaurant</td>\n      <td>0</td>\n    </tr>\n    <tr>\n      <th>1</th>\n      <td>롯데캐슬 천지인</td>\n      <td>37.573936</td>\n      <td>127.016338</td>\n      <td>Dongdaemoon Stationery and Toy Market (동대문문구완구거리)</td>\n      <td>37.571528</td>\n      <td>127.013856</td>\n      <td>Toy / Game Store</td>\n      <td>0</td>\n    </tr>\n    <tr>\n      <th>2</th>\n      <td>롯데캐슬 천지인</td>\n      <td>37.573936</td>\n      <td>127.016338</td>\n      <td>동대문 양육관점</td>\n      <td>37.572204</td>\n      <td>127.012623</td>\n      <td>Chinese Restaurant</td>\n      <td>0</td>\n    </tr>\n    <tr>\n      <th>3</th>\n      <td>롯데캐슬 천지인</td>\n      <td>37.573936</td>\n      <td>127.016338</td>\n      <td>Yukjeon Sikdang (육전식당)</td>\n      <td>37.574425</td>\n      <td>127.024394</td>\n      <td>BBQ Joint</td>\n      <td>0</td>\n    </tr>\n    <tr>\n      <th>4</th>\n      <td>롯데캐슬 천지인</td>\n      <td>37.573936</td>\n      <td>127.016338</td>\n      <td>창신동 매운족발</td>\n      <td>37.573021</td>\n      <td>127.011588</td>\n      <td>Korean Restaurant</td>\n      <td>0</td>\n    </tr>\n  </tbody>\n</table>\n</div>"
     },
     "metadata": {},
     "execution_count": 43
    }
   ],
   "source": [
    "# Add a new column\n",
    "seoul_venues['General Category'] = 0\n",
    "seoul_venues.head()"
   ]
  },
  {
   "cell_type": "code",
   "execution_count": 44,
   "metadata": {},
   "outputs": [
    {
     "output_type": "execute_result",
     "data": {
      "text/plain": [
       "  Neighborhood  Neighborhood Latitude  Neighborhood Longitude  \\\n",
       "0     롯데캐슬 천지인              37.573936              127.016338   \n",
       "1     롯데캐슬 천지인              37.573936              127.016338   \n",
       "2     롯데캐슬 천지인              37.573936              127.016338   \n",
       "3     롯데캐슬 천지인              37.573936              127.016338   \n",
       "4     롯데캐슬 천지인              37.573936              127.016338   \n",
       "\n",
       "                                               Venue  Venue Latitude  \\\n",
       "0                                    EVEREST (에베레스트)       37.572567   \n",
       "1  Dongdaemoon Stationery and Toy Market (동대문문구완구거리)       37.571528   \n",
       "2                                           동대문 양육관점       37.572204   \n",
       "3                             Yukjeon Sikdang (육전식당)       37.574425   \n",
       "4                                           창신동 매운족발       37.573021   \n",
       "\n",
       "   Venue Longitude      Venue Category General Category  \n",
       "0       127.012588   Indian Restaurant   Food and drink  \n",
       "1       127.013856    Toy / Game Store    Entertainment  \n",
       "2       127.012623  Chinese Restaurant   Food and drink  \n",
       "3       127.024394           BBQ Joint   Food and drink  \n",
       "4       127.011588   Korean Restaurant   Food and drink  "
      ],
      "text/html": "<div>\n<style scoped>\n    .dataframe tbody tr th:only-of-type {\n        vertical-align: middle;\n    }\n\n    .dataframe tbody tr th {\n        vertical-align: top;\n    }\n\n    .dataframe thead th {\n        text-align: right;\n    }\n</style>\n<table border=\"1\" class=\"dataframe\">\n  <thead>\n    <tr style=\"text-align: right;\">\n      <th></th>\n      <th>Neighborhood</th>\n      <th>Neighborhood Latitude</th>\n      <th>Neighborhood Longitude</th>\n      <th>Venue</th>\n      <th>Venue Latitude</th>\n      <th>Venue Longitude</th>\n      <th>Venue Category</th>\n      <th>General Category</th>\n    </tr>\n  </thead>\n  <tbody>\n    <tr>\n      <th>0</th>\n      <td>롯데캐슬 천지인</td>\n      <td>37.573936</td>\n      <td>127.016338</td>\n      <td>EVEREST (에베레스트)</td>\n      <td>37.572567</td>\n      <td>127.012588</td>\n      <td>Indian Restaurant</td>\n      <td>Food and drink</td>\n    </tr>\n    <tr>\n      <th>1</th>\n      <td>롯데캐슬 천지인</td>\n      <td>37.573936</td>\n      <td>127.016338</td>\n      <td>Dongdaemoon Stationery and Toy Market (동대문문구완구거리)</td>\n      <td>37.571528</td>\n      <td>127.013856</td>\n      <td>Toy / Game Store</td>\n      <td>Entertainment</td>\n    </tr>\n    <tr>\n      <th>2</th>\n      <td>롯데캐슬 천지인</td>\n      <td>37.573936</td>\n      <td>127.016338</td>\n      <td>동대문 양육관점</td>\n      <td>37.572204</td>\n      <td>127.012623</td>\n      <td>Chinese Restaurant</td>\n      <td>Food and drink</td>\n    </tr>\n    <tr>\n      <th>3</th>\n      <td>롯데캐슬 천지인</td>\n      <td>37.573936</td>\n      <td>127.016338</td>\n      <td>Yukjeon Sikdang (육전식당)</td>\n      <td>37.574425</td>\n      <td>127.024394</td>\n      <td>BBQ Joint</td>\n      <td>Food and drink</td>\n    </tr>\n    <tr>\n      <th>4</th>\n      <td>롯데캐슬 천지인</td>\n      <td>37.573936</td>\n      <td>127.016338</td>\n      <td>창신동 매운족발</td>\n      <td>37.573021</td>\n      <td>127.011588</td>\n      <td>Korean Restaurant</td>\n      <td>Food and drink</td>\n    </tr>\n  </tbody>\n</table>\n</div>"
     },
     "metadata": {},
     "execution_count": 44
    }
   ],
   "source": [
    "# Loop through all rows in seoul_venue df\n",
    "for i in range(len(seoul_venues)):\n",
    "    for j in range(len(seoul_venues_cat.columns)):\n",
    "        if seoul_venues.loc[i,'Venue Category'] in seoul_venues_cat.iloc[:,j].values:\n",
    "            # Add general category\n",
    "            seoul_venues.loc[i, 'General Category'] = seoul_venues_cat.columns.values[j]\n",
    "\n",
    "seoul_venues.head()"
   ]
  },
  {
   "cell_type": "code",
   "execution_count": 45,
   "metadata": {
    "tags": []
   },
   "outputs": [
    {
     "output_type": "stream",
     "name": "stdout",
     "text": [
      "{'Food and drink', 'Transport', 'Service and store', 'Entertainment', 'Sightseeing and culture', 'Sports and leisure', 'Lodging'}\n"
     ]
    }
   ],
   "source": [
    "print(set(seoul_venues['General Category']))"
   ]
  },
  {
   "source": [
    "# Analyze each neighborhood"
   ],
   "cell_type": "markdown",
   "metadata": {}
  },
  {
   "cell_type": "code",
   "execution_count": 53,
   "metadata": {},
   "outputs": [
    {
     "output_type": "stream",
     "name": "stdout",
     "text": [
      "(9484, 8)\n  Neighborhood  Entertainment  Food and drink  Lodging  Service and store  \\\n0     롯데캐슬 천지인              0               1        0                  0   \n1     롯데캐슬 천지인              1               0        0                  0   \n2     롯데캐슬 천지인              0               1        0                  0   \n3     롯데캐슬 천지인              0               1        0                  0   \n4     롯데캐슬 천지인              0               1        0                  0   \n\n   Sightseeing and culture  Sports and leisure  Transport  \n0                        0                   0          0  \n1                        0                   0          0  \n2                        0                   0          0  \n3                        0                   0          0  \n4                        0                   0          0  \n"
     ]
    }
   ],
   "source": [
    "seoul_onehot = pd.get_dummies(seoul_venues[['General Category']], prefix=\"\", prefix_sep=\"\")\n",
    "\n",
    "# Remove 0 column in general venue categories if exist\n",
    "try:\n",
    "    del seoul_onehot['0']\n",
    "except:\n",
    "    pass\n",
    "finally:    \n",
    "    # add neighborhood column back to dataframe\n",
    "    seoul_onehot.insert(0,'Neighborhood',seoul_venues['Neighborhood'],True)\n",
    "    print(seoul_onehot.shape)\n",
    "    print(seoul_onehot.head())"
   ]
  },
  {
   "source": [
    "## Group the neighborhood"
   ],
   "cell_type": "markdown",
   "metadata": {}
  },
  {
   "cell_type": "code",
   "execution_count": 60,
   "metadata": {},
   "outputs": [
    {
     "output_type": "stream",
     "name": "stdout",
     "text": [
      "(178, 8)\n"
     ]
    },
    {
     "output_type": "execute_result",
     "data": {
      "text/plain": [
       "  Neighborhood  Entertainment  Food and drink  Lodging  Service and store  \\\n",
       "0          강남빌              0              20        1                  0   \n",
       "1         경신빌라              1              10        0                  0   \n",
       "2         경원주택              0              16        1                  0   \n",
       "3        경희궁파크              7              64        1                  3   \n",
       "4         고려빌라              2               9        0                  1   \n",
       "5         골드캐슬              1              26        0                  0   \n",
       "6         공원빌라              0              93        0                  1   \n",
       "7         광일기공              2              57        1                  5   \n",
       "8         구일빌라              1              69        3                  1   \n",
       "9         궁전빌라              1              79        0                  3   \n",
       "\n",
       "   Sightseeing and culture  Sports and leisure  Transport  \n",
       "0                        0                   0          7  \n",
       "1                        4                   0          0  \n",
       "2                        3                   0          0  \n",
       "3                       24                   1          0  \n",
       "4                        3                   4          2  \n",
       "5                        2                   0          2  \n",
       "6                        5                   1          0  \n",
       "7                        1                   2          3  \n",
       "8                       26                   0          0  \n",
       "9                        2                   2          1  "
      ],
      "text/html": "<div>\n<style scoped>\n    .dataframe tbody tr th:only-of-type {\n        vertical-align: middle;\n    }\n\n    .dataframe tbody tr th {\n        vertical-align: top;\n    }\n\n    .dataframe thead th {\n        text-align: right;\n    }\n</style>\n<table border=\"1\" class=\"dataframe\">\n  <thead>\n    <tr style=\"text-align: right;\">\n      <th></th>\n      <th>Neighborhood</th>\n      <th>Entertainment</th>\n      <th>Food and drink</th>\n      <th>Lodging</th>\n      <th>Service and store</th>\n      <th>Sightseeing and culture</th>\n      <th>Sports and leisure</th>\n      <th>Transport</th>\n    </tr>\n  </thead>\n  <tbody>\n    <tr>\n      <th>0</th>\n      <td>강남빌</td>\n      <td>0</td>\n      <td>20</td>\n      <td>1</td>\n      <td>0</td>\n      <td>0</td>\n      <td>0</td>\n      <td>7</td>\n    </tr>\n    <tr>\n      <th>1</th>\n      <td>경신빌라</td>\n      <td>1</td>\n      <td>10</td>\n      <td>0</td>\n      <td>0</td>\n      <td>4</td>\n      <td>0</td>\n      <td>0</td>\n    </tr>\n    <tr>\n      <th>2</th>\n      <td>경원주택</td>\n      <td>0</td>\n      <td>16</td>\n      <td>1</td>\n      <td>0</td>\n      <td>3</td>\n      <td>0</td>\n      <td>0</td>\n    </tr>\n    <tr>\n      <th>3</th>\n      <td>경희궁파크</td>\n      <td>7</td>\n      <td>64</td>\n      <td>1</td>\n      <td>3</td>\n      <td>24</td>\n      <td>1</td>\n      <td>0</td>\n    </tr>\n    <tr>\n      <th>4</th>\n      <td>고려빌라</td>\n      <td>2</td>\n      <td>9</td>\n      <td>0</td>\n      <td>1</td>\n      <td>3</td>\n      <td>4</td>\n      <td>2</td>\n    </tr>\n    <tr>\n      <th>5</th>\n      <td>골드캐슬</td>\n      <td>1</td>\n      <td>26</td>\n      <td>0</td>\n      <td>0</td>\n      <td>2</td>\n      <td>0</td>\n      <td>2</td>\n    </tr>\n    <tr>\n      <th>6</th>\n      <td>공원빌라</td>\n      <td>0</td>\n      <td>93</td>\n      <td>0</td>\n      <td>1</td>\n      <td>5</td>\n      <td>1</td>\n      <td>0</td>\n    </tr>\n    <tr>\n      <th>7</th>\n      <td>광일기공</td>\n      <td>2</td>\n      <td>57</td>\n      <td>1</td>\n      <td>5</td>\n      <td>1</td>\n      <td>2</td>\n      <td>3</td>\n    </tr>\n    <tr>\n      <th>8</th>\n      <td>구일빌라</td>\n      <td>1</td>\n      <td>69</td>\n      <td>3</td>\n      <td>1</td>\n      <td>26</td>\n      <td>0</td>\n      <td>0</td>\n    </tr>\n    <tr>\n      <th>9</th>\n      <td>궁전빌라</td>\n      <td>1</td>\n      <td>79</td>\n      <td>0</td>\n      <td>3</td>\n      <td>2</td>\n      <td>2</td>\n      <td>1</td>\n    </tr>\n  </tbody>\n</table>\n</div>"
     },
     "metadata": {},
     "execution_count": 60
    }
   ],
   "source": [
    "# By total number of general categories\n",
    "seoul_grouped_sum = seoul_onehot.groupby('Neighborhood').sum().reset_index()\n",
    "print(seoul_grouped_sum.shape)\n",
    "seoul_grouped_sum.head(10)"
   ]
  },
  {
   "cell_type": "code",
   "execution_count": 59,
   "metadata": {},
   "outputs": [
    {
     "output_type": "stream",
     "name": "stdout",
     "text": [
      "(178, 8)\n"
     ]
    },
    {
     "output_type": "execute_result",
     "data": {
      "text/plain": [
       "  Neighborhood  Entertainment  Food and drink   Lodging  Service and store  \\\n",
       "0          강남빌       0.000000        0.714286  0.035714           0.000000   \n",
       "1         경신빌라       0.066667        0.666667  0.000000           0.000000   \n",
       "2         경원주택       0.000000        0.800000  0.050000           0.000000   \n",
       "3        경희궁파크       0.070000        0.640000  0.010000           0.030000   \n",
       "4         고려빌라       0.095238        0.428571  0.000000           0.047619   \n",
       "5         골드캐슬       0.032258        0.838710  0.000000           0.000000   \n",
       "6         공원빌라       0.000000        0.930000  0.000000           0.010000   \n",
       "7         광일기공       0.028169        0.802817  0.014085           0.070423   \n",
       "8         구일빌라       0.010000        0.690000  0.030000           0.010000   \n",
       "9         궁전빌라       0.011364        0.897727  0.000000           0.034091   \n",
       "\n",
       "   Sightseeing and culture  Sports and leisure  Transport  \n",
       "0                 0.000000            0.000000   0.250000  \n",
       "1                 0.266667            0.000000   0.000000  \n",
       "2                 0.150000            0.000000   0.000000  \n",
       "3                 0.240000            0.010000   0.000000  \n",
       "4                 0.142857            0.190476   0.095238  \n",
       "5                 0.064516            0.000000   0.064516  \n",
       "6                 0.050000            0.010000   0.000000  \n",
       "7                 0.014085            0.028169   0.042254  \n",
       "8                 0.260000            0.000000   0.000000  \n",
       "9                 0.022727            0.022727   0.011364  "
      ],
      "text/html": "<div>\n<style scoped>\n    .dataframe tbody tr th:only-of-type {\n        vertical-align: middle;\n    }\n\n    .dataframe tbody tr th {\n        vertical-align: top;\n    }\n\n    .dataframe thead th {\n        text-align: right;\n    }\n</style>\n<table border=\"1\" class=\"dataframe\">\n  <thead>\n    <tr style=\"text-align: right;\">\n      <th></th>\n      <th>Neighborhood</th>\n      <th>Entertainment</th>\n      <th>Food and drink</th>\n      <th>Lodging</th>\n      <th>Service and store</th>\n      <th>Sightseeing and culture</th>\n      <th>Sports and leisure</th>\n      <th>Transport</th>\n    </tr>\n  </thead>\n  <tbody>\n    <tr>\n      <th>0</th>\n      <td>강남빌</td>\n      <td>0.000000</td>\n      <td>0.714286</td>\n      <td>0.035714</td>\n      <td>0.000000</td>\n      <td>0.000000</td>\n      <td>0.000000</td>\n      <td>0.250000</td>\n    </tr>\n    <tr>\n      <th>1</th>\n      <td>경신빌라</td>\n      <td>0.066667</td>\n      <td>0.666667</td>\n      <td>0.000000</td>\n      <td>0.000000</td>\n      <td>0.266667</td>\n      <td>0.000000</td>\n      <td>0.000000</td>\n    </tr>\n    <tr>\n      <th>2</th>\n      <td>경원주택</td>\n      <td>0.000000</td>\n      <td>0.800000</td>\n      <td>0.050000</td>\n      <td>0.000000</td>\n      <td>0.150000</td>\n      <td>0.000000</td>\n      <td>0.000000</td>\n    </tr>\n    <tr>\n      <th>3</th>\n      <td>경희궁파크</td>\n      <td>0.070000</td>\n      <td>0.640000</td>\n      <td>0.010000</td>\n      <td>0.030000</td>\n      <td>0.240000</td>\n      <td>0.010000</td>\n      <td>0.000000</td>\n    </tr>\n    <tr>\n      <th>4</th>\n      <td>고려빌라</td>\n      <td>0.095238</td>\n      <td>0.428571</td>\n      <td>0.000000</td>\n      <td>0.047619</td>\n      <td>0.142857</td>\n      <td>0.190476</td>\n      <td>0.095238</td>\n    </tr>\n    <tr>\n      <th>5</th>\n      <td>골드캐슬</td>\n      <td>0.032258</td>\n      <td>0.838710</td>\n      <td>0.000000</td>\n      <td>0.000000</td>\n      <td>0.064516</td>\n      <td>0.000000</td>\n      <td>0.064516</td>\n    </tr>\n    <tr>\n      <th>6</th>\n      <td>공원빌라</td>\n      <td>0.000000</td>\n      <td>0.930000</td>\n      <td>0.000000</td>\n      <td>0.010000</td>\n      <td>0.050000</td>\n      <td>0.010000</td>\n      <td>0.000000</td>\n    </tr>\n    <tr>\n      <th>7</th>\n      <td>광일기공</td>\n      <td>0.028169</td>\n      <td>0.802817</td>\n      <td>0.014085</td>\n      <td>0.070423</td>\n      <td>0.014085</td>\n      <td>0.028169</td>\n      <td>0.042254</td>\n    </tr>\n    <tr>\n      <th>8</th>\n      <td>구일빌라</td>\n      <td>0.010000</td>\n      <td>0.690000</td>\n      <td>0.030000</td>\n      <td>0.010000</td>\n      <td>0.260000</td>\n      <td>0.000000</td>\n      <td>0.000000</td>\n    </tr>\n    <tr>\n      <th>9</th>\n      <td>궁전빌라</td>\n      <td>0.011364</td>\n      <td>0.897727</td>\n      <td>0.000000</td>\n      <td>0.034091</td>\n      <td>0.022727</td>\n      <td>0.022727</td>\n      <td>0.011364</td>\n    </tr>\n  </tbody>\n</table>\n</div>"
     },
     "metadata": {},
     "execution_count": 59
    }
   ],
   "source": [
    "# Grouped by mean of general category\n",
    "seoul_grouped_mean = seoul_onehot.groupby('Neighborhood').mean().reset_index()\n",
    "print(seoul_grouped_mean.shape)\n",
    "seoul_grouped_mean.head(10)"
   ]
  },
  {
   "source": [
    "## Create a new dataframe and display top 7 general catetories"
   ],
   "cell_type": "markdown",
   "metadata": {}
  },
  {
   "cell_type": "code",
   "execution_count": 61,
   "metadata": {},
   "outputs": [],
   "source": [
    "def return_most_common_venues(row, num_top_venues):\n",
    "    row_categories = row.iloc[1:]\n",
    "    row_categories_sorted = row_categories.sort_values(ascending=False)\n",
    "    \n",
    "    return row_categories_sorted.index.values[0:num_top_venues]"
   ]
  },
  {
   "cell_type": "code",
   "execution_count": 62,
   "metadata": {},
   "outputs": [
    {
     "output_type": "execute_result",
     "data": {
      "text/plain": [
       "  Neighborhood 1st Most Common Venue    2nd Most Common Venue  \\\n",
       "0          강남빌        Food and drink                Transport   \n",
       "1         경신빌라        Food and drink  Sightseeing and culture   \n",
       "2         경원주택        Food and drink  Sightseeing and culture   \n",
       "3        경희궁파크        Food and drink  Sightseeing and culture   \n",
       "4         고려빌라        Food and drink       Sports and leisure   \n",
       "\n",
       "     3rd Most Common Venue 4th Most Common Venue 5th Most Common Venue  \\\n",
       "0                  Lodging         Entertainment     Service and store   \n",
       "1            Entertainment               Lodging     Service and store   \n",
       "2                  Lodging         Entertainment     Service and store   \n",
       "3            Entertainment     Service and store               Lodging   \n",
       "4  Sightseeing and culture         Entertainment             Transport   \n",
       "\n",
       "     6th Most Common Venue 7th Most Common Venue  \n",
       "0  Sightseeing and culture    Sports and leisure  \n",
       "1       Sports and leisure             Transport  \n",
       "2       Sports and leisure             Transport  \n",
       "3       Sports and leisure             Transport  \n",
       "4        Service and store               Lodging  "
      ],
      "text/html": "<div>\n<style scoped>\n    .dataframe tbody tr th:only-of-type {\n        vertical-align: middle;\n    }\n\n    .dataframe tbody tr th {\n        vertical-align: top;\n    }\n\n    .dataframe thead th {\n        text-align: right;\n    }\n</style>\n<table border=\"1\" class=\"dataframe\">\n  <thead>\n    <tr style=\"text-align: right;\">\n      <th></th>\n      <th>Neighborhood</th>\n      <th>1st Most Common Venue</th>\n      <th>2nd Most Common Venue</th>\n      <th>3rd Most Common Venue</th>\n      <th>4th Most Common Venue</th>\n      <th>5th Most Common Venue</th>\n      <th>6th Most Common Venue</th>\n      <th>7th Most Common Venue</th>\n    </tr>\n  </thead>\n  <tbody>\n    <tr>\n      <th>0</th>\n      <td>강남빌</td>\n      <td>Food and drink</td>\n      <td>Transport</td>\n      <td>Lodging</td>\n      <td>Entertainment</td>\n      <td>Service and store</td>\n      <td>Sightseeing and culture</td>\n      <td>Sports and leisure</td>\n    </tr>\n    <tr>\n      <th>1</th>\n      <td>경신빌라</td>\n      <td>Food and drink</td>\n      <td>Sightseeing and culture</td>\n      <td>Entertainment</td>\n      <td>Lodging</td>\n      <td>Service and store</td>\n      <td>Sports and leisure</td>\n      <td>Transport</td>\n    </tr>\n    <tr>\n      <th>2</th>\n      <td>경원주택</td>\n      <td>Food and drink</td>\n      <td>Sightseeing and culture</td>\n      <td>Lodging</td>\n      <td>Entertainment</td>\n      <td>Service and store</td>\n      <td>Sports and leisure</td>\n      <td>Transport</td>\n    </tr>\n    <tr>\n      <th>3</th>\n      <td>경희궁파크</td>\n      <td>Food and drink</td>\n      <td>Sightseeing and culture</td>\n      <td>Entertainment</td>\n      <td>Service and store</td>\n      <td>Lodging</td>\n      <td>Sports and leisure</td>\n      <td>Transport</td>\n    </tr>\n    <tr>\n      <th>4</th>\n      <td>고려빌라</td>\n      <td>Food and drink</td>\n      <td>Sports and leisure</td>\n      <td>Sightseeing and culture</td>\n      <td>Entertainment</td>\n      <td>Transport</td>\n      <td>Service and store</td>\n      <td>Lodging</td>\n    </tr>\n  </tbody>\n</table>\n</div>"
     },
     "metadata": {},
     "execution_count": 62
    }
   ],
   "source": [
    "import numpy as np\n",
    "\n",
    "num_top_venues = 7\n",
    "indicators = ['st', 'nd', 'rd']\n",
    "\n",
    "# create columns according to number of top venues\n",
    "columns = ['Neighborhood']\n",
    "for ind in np.arange(num_top_venues):\n",
    "    try:\n",
    "        columns.append('{}{} Most Common Venue'.format(ind+1, indicators[ind]))\n",
    "    except:\n",
    "        columns.append('{}th Most Common Venue'.format(ind+1))\n",
    "\n",
    "# create a new dataframe\n",
    "neighborhoods_venues_sorted = pd.DataFrame(columns=columns)\n",
    "neighborhoods_venues_sorted['Neighborhood'] = seoul_grouped['Neighborhood']\n",
    "\n",
    "for ind in np.arange(seoul_grouped_mean.shape[0]):\n",
    "    neighborhoods_venues_sorted.iloc[ind, 1:] = return_most_common_venues(seoul_grouped_mean.iloc[ind, :], num_top_venues)\n",
    "\n",
    "neighborhoods_venues_sorted.head()"
   ]
  },
  {
   "source": [
    "# Clustering neighborhood"
   ],
   "cell_type": "markdown",
   "metadata": {}
  },
  {
   "cell_type": "code",
   "execution_count": null,
   "metadata": {},
   "outputs": [],
   "source": []
  }
 ]
}